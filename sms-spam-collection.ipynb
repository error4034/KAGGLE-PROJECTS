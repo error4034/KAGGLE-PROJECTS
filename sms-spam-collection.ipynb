{
 "cells": [
  {
   "cell_type": "code",
   "execution_count": 1,
   "id": "cb303a41",
   "metadata": {
    "_cell_guid": "b1076dfc-b9ad-4769-8c92-a6c4dae69d19",
    "_uuid": "8f2839f25d086af736a60e9eeb907d3b93b6e0e5",
    "execution": {
     "iopub.execute_input": "2022-09-22T07:06:04.407726Z",
     "iopub.status.busy": "2022-09-22T07:06:04.406565Z",
     "iopub.status.idle": "2022-09-22T07:06:06.594894Z",
     "shell.execute_reply": "2022-09-22T07:06:06.593567Z"
    },
    "papermill": {
     "duration": 2.20444,
     "end_time": "2022-09-22T07:06:06.598063",
     "exception": false,
     "start_time": "2022-09-22T07:06:04.393623",
     "status": "completed"
    },
    "tags": []
   },
   "outputs": [],
   "source": [
    "import pandas as pd\n",
    "import numpy as np\n",
    "import nltk\n",
    "import re\n",
    "import matplotlib.pyplot as plt"
   ]
  },
  {
   "cell_type": "markdown",
   "id": "92810d3c",
   "metadata": {
    "papermill": {
     "duration": 0.006543,
     "end_time": "2022-09-22T07:06:06.614155",
     "exception": false,
     "start_time": "2022-09-22T07:06:06.607612",
     "status": "completed"
    },
    "tags": []
   },
   "source": [
    "WE HAVE IMPORTED ALL THE NECESSARY LIBRARIES"
   ]
  },
  {
   "cell_type": "code",
   "execution_count": 2,
   "id": "c29b07ad",
   "metadata": {
    "execution": {
     "iopub.execute_input": "2022-09-22T07:06:06.630337Z",
     "iopub.status.busy": "2022-09-22T07:06:06.629187Z",
     "iopub.status.idle": "2022-09-22T07:06:06.691800Z",
     "shell.execute_reply": "2022-09-22T07:06:06.690604Z"
    },
    "papermill": {
     "duration": 0.073265,
     "end_time": "2022-09-22T07:06:06.694781",
     "exception": false,
     "start_time": "2022-09-22T07:06:06.621516",
     "status": "completed"
    },
    "tags": []
   },
   "outputs": [
    {
     "data": {
      "text/plain": [
       "5572"
      ]
     },
     "execution_count": 2,
     "metadata": {},
     "output_type": "execute_result"
    }
   ],
   "source": [
    "df=pd.read_csv('../input/smsspam/SMSSpamCollection',sep='\\t',names=[\"labels\",\"message\"])\n",
    "df['message'].size"
   ]
  },
  {
   "cell_type": "code",
   "execution_count": 3,
   "id": "782309e8",
   "metadata": {
    "execution": {
     "iopub.execute_input": "2022-09-22T07:06:06.709004Z",
     "iopub.status.busy": "2022-09-22T07:06:06.708207Z",
     "iopub.status.idle": "2022-09-22T07:06:06.728843Z",
     "shell.execute_reply": "2022-09-22T07:06:06.727470Z"
    },
    "papermill": {
     "duration": 0.030664,
     "end_time": "2022-09-22T07:06:06.731551",
     "exception": false,
     "start_time": "2022-09-22T07:06:06.700887",
     "status": "completed"
    },
    "tags": []
   },
   "outputs": [
    {
     "data": {
      "text/html": [
       "<div>\n",
       "<style scoped>\n",
       "    .dataframe tbody tr th:only-of-type {\n",
       "        vertical-align: middle;\n",
       "    }\n",
       "\n",
       "    .dataframe tbody tr th {\n",
       "        vertical-align: top;\n",
       "    }\n",
       "\n",
       "    .dataframe thead th {\n",
       "        text-align: right;\n",
       "    }\n",
       "</style>\n",
       "<table border=\"1\" class=\"dataframe\">\n",
       "  <thead>\n",
       "    <tr style=\"text-align: right;\">\n",
       "      <th></th>\n",
       "      <th>labels</th>\n",
       "      <th>message</th>\n",
       "    </tr>\n",
       "  </thead>\n",
       "  <tbody>\n",
       "    <tr>\n",
       "      <th>0</th>\n",
       "      <td>ham</td>\n",
       "      <td>Go until jurong point, crazy.. Available only ...</td>\n",
       "    </tr>\n",
       "    <tr>\n",
       "      <th>1</th>\n",
       "      <td>ham</td>\n",
       "      <td>Ok lar... Joking wif u oni...</td>\n",
       "    </tr>\n",
       "    <tr>\n",
       "      <th>2</th>\n",
       "      <td>spam</td>\n",
       "      <td>Free entry in 2 a wkly comp to win FA Cup fina...</td>\n",
       "    </tr>\n",
       "    <tr>\n",
       "      <th>3</th>\n",
       "      <td>ham</td>\n",
       "      <td>U dun say so early hor... U c already then say...</td>\n",
       "    </tr>\n",
       "    <tr>\n",
       "      <th>4</th>\n",
       "      <td>ham</td>\n",
       "      <td>Nah I don't think he goes to usf, he lives aro...</td>\n",
       "    </tr>\n",
       "    <tr>\n",
       "      <th>...</th>\n",
       "      <td>...</td>\n",
       "      <td>...</td>\n",
       "    </tr>\n",
       "    <tr>\n",
       "      <th>5567</th>\n",
       "      <td>spam</td>\n",
       "      <td>This is the 2nd time we have tried 2 contact u...</td>\n",
       "    </tr>\n",
       "    <tr>\n",
       "      <th>5568</th>\n",
       "      <td>ham</td>\n",
       "      <td>Will ü b going to esplanade fr home?</td>\n",
       "    </tr>\n",
       "    <tr>\n",
       "      <th>5569</th>\n",
       "      <td>ham</td>\n",
       "      <td>Pity, * was in mood for that. So...any other s...</td>\n",
       "    </tr>\n",
       "    <tr>\n",
       "      <th>5570</th>\n",
       "      <td>ham</td>\n",
       "      <td>The guy did some bitching but I acted like i'd...</td>\n",
       "    </tr>\n",
       "    <tr>\n",
       "      <th>5571</th>\n",
       "      <td>ham</td>\n",
       "      <td>Rofl. Its true to its name</td>\n",
       "    </tr>\n",
       "  </tbody>\n",
       "</table>\n",
       "<p>5572 rows × 2 columns</p>\n",
       "</div>"
      ],
      "text/plain": [
       "     labels                                            message\n",
       "0       ham  Go until jurong point, crazy.. Available only ...\n",
       "1       ham                      Ok lar... Joking wif u oni...\n",
       "2      spam  Free entry in 2 a wkly comp to win FA Cup fina...\n",
       "3       ham  U dun say so early hor... U c already then say...\n",
       "4       ham  Nah I don't think he goes to usf, he lives aro...\n",
       "...     ...                                                ...\n",
       "5567   spam  This is the 2nd time we have tried 2 contact u...\n",
       "5568    ham               Will ü b going to esplanade fr home?\n",
       "5569    ham  Pity, * was in mood for that. So...any other s...\n",
       "5570    ham  The guy did some bitching but I acted like i'd...\n",
       "5571    ham                         Rofl. Its true to its name\n",
       "\n",
       "[5572 rows x 2 columns]"
      ]
     },
     "execution_count": 3,
     "metadata": {},
     "output_type": "execute_result"
    }
   ],
   "source": [
    "df"
   ]
  },
  {
   "cell_type": "markdown",
   "id": "feae393d",
   "metadata": {
    "papermill": {
     "duration": 0.006486,
     "end_time": "2022-09-22T07:06:06.744322",
     "exception": false,
     "start_time": "2022-09-22T07:06:06.737836",
     "status": "completed"
    },
    "tags": []
   },
   "source": [
    "The first col is whether any message is spam or not and second is the message itself"
   ]
  },
  {
   "cell_type": "code",
   "execution_count": 4,
   "id": "5e34b66b",
   "metadata": {
    "execution": {
     "iopub.execute_input": "2022-09-22T07:06:06.759728Z",
     "iopub.status.busy": "2022-09-22T07:06:06.759263Z",
     "iopub.status.idle": "2022-09-22T07:06:07.307362Z",
     "shell.execute_reply": "2022-09-22T07:06:07.306134Z"
    },
    "papermill": {
     "duration": 0.559055,
     "end_time": "2022-09-22T07:06:07.309919",
     "exception": false,
     "start_time": "2022-09-22T07:06:06.750864",
     "status": "completed"
    },
    "tags": []
   },
   "outputs": [
    {
     "name": "stderr",
     "output_type": "stream",
     "text": [
      "[nltk_data] Downloading package omw-1.4 to /usr/share/nltk_data...\n"
     ]
    },
    {
     "data": {
      "text/plain": [
       "True"
      ]
     },
     "execution_count": 4,
     "metadata": {},
     "output_type": "execute_result"
    }
   ],
   "source": [
    "nltk.download('omw-1.4')"
   ]
  },
  {
   "cell_type": "code",
   "execution_count": 5,
   "id": "08a47268",
   "metadata": {
    "execution": {
     "iopub.execute_input": "2022-09-22T07:06:07.324963Z",
     "iopub.status.busy": "2022-09-22T07:06:07.323754Z",
     "iopub.status.idle": "2022-09-22T07:06:07.330025Z",
     "shell.execute_reply": "2022-09-22T07:06:07.328827Z"
    },
    "papermill": {
     "duration": 0.016733,
     "end_time": "2022-09-22T07:06:07.332959",
     "exception": false,
     "start_time": "2022-09-22T07:06:07.316226",
     "status": "completed"
    },
    "tags": []
   },
   "outputs": [],
   "source": [
    "from nltk.stem import WordNetLemmatizer\n",
    "from nltk.corpus import stopwords\n"
   ]
  },
  {
   "cell_type": "code",
   "execution_count": 6,
   "id": "fa9c0877",
   "metadata": {
    "execution": {
     "iopub.execute_input": "2022-09-22T07:06:07.347583Z",
     "iopub.status.busy": "2022-09-22T07:06:07.347104Z",
     "iopub.status.idle": "2022-09-22T07:06:07.352301Z",
     "shell.execute_reply": "2022-09-22T07:06:07.351070Z"
    },
    "papermill": {
     "duration": 0.015845,
     "end_time": "2022-09-22T07:06:07.355127",
     "exception": false,
     "start_time": "2022-09-22T07:06:07.339282",
     "status": "completed"
    },
    "tags": []
   },
   "outputs": [],
   "source": [
    "corpus=[]\n",
    "wordnet=WordNetLemmatizer()"
   ]
  },
  {
   "cell_type": "markdown",
   "id": "7334c5eb",
   "metadata": {
    "papermill": {
     "duration": 0.00616,
     "end_time": "2022-09-22T07:06:07.367483",
     "exception": false,
     "start_time": "2022-09-22T07:06:07.361323",
     "status": "completed"
    },
    "tags": []
   },
   "source": [
    "LEMMATIZER...It converts the word to its root form."
   ]
  },
  {
   "cell_type": "code",
   "execution_count": 7,
   "id": "e98bd525",
   "metadata": {
    "execution": {
     "iopub.execute_input": "2022-09-22T07:06:07.382464Z",
     "iopub.status.busy": "2022-09-22T07:06:07.381303Z",
     "iopub.status.idle": "2022-09-22T07:06:22.226145Z",
     "shell.execute_reply": "2022-09-22T07:06:22.225108Z"
    },
    "papermill": {
     "duration": 14.85512,
     "end_time": "2022-09-22T07:06:22.228886",
     "exception": false,
     "start_time": "2022-09-22T07:06:07.373766",
     "status": "completed"
    },
    "tags": []
   },
   "outputs": [],
   "source": [
    "for i in range(0,(df['message'].size)):\n",
    "    review=re.sub('[^a-zA-Z]',' ',df['message'][i])\n",
    "    review=review.lower()\n",
    "    review=review.split()\n",
    "    review=[wordnet.lemmatize(word) for word in review if not word in stopwords.words('english')]\n",
    "    review=' '.join(review)\n",
    "    corpus.append(review)"
   ]
  },
  {
   "cell_type": "markdown",
   "id": "cd3cfcf1",
   "metadata": {
    "papermill": {
     "duration": 0.007189,
     "end_time": "2022-09-22T07:06:22.242533",
     "exception": false,
     "start_time": "2022-09-22T07:06:22.235344",
     "status": "completed"
    },
    "tags": []
   },
   "source": [
    "TEXT PREPROCESSING:\n",
    "1)REMOVING ALL SPECIAL CHARACTERS EXCEPT ALPHABETS\n",
    "2)CONVERTING ALL TO LOWER CASE\n",
    "3)SPLITTIN THE DATA4)LEMMATIZATION\n"
   ]
  },
  {
   "cell_type": "code",
   "execution_count": 8,
   "id": "441e116b",
   "metadata": {
    "execution": {
     "iopub.execute_input": "2022-09-22T07:06:22.256662Z",
     "iopub.status.busy": "2022-09-22T07:06:22.256221Z",
     "iopub.status.idle": "2022-09-22T07:06:22.526828Z",
     "shell.execute_reply": "2022-09-22T07:06:22.525555Z"
    },
    "papermill": {
     "duration": 0.280843,
     "end_time": "2022-09-22T07:06:22.529472",
     "exception": false,
     "start_time": "2022-09-22T07:06:22.248629",
     "status": "completed"
    },
    "tags": []
   },
   "outputs": [],
   "source": [
    "from sklearn.feature_extraction.text import TfidfVectorizer\n",
    "tf=TfidfVectorizer(max_features=5000)\n",
    "X=tf.fit_transform(corpus).toarray()"
   ]
  },
  {
   "cell_type": "markdown",
   "id": "d84d7cc6",
   "metadata": {
    "papermill": {
     "duration": 0.005836,
     "end_time": "2022-09-22T07:06:22.542427",
     "exception": false,
     "start_time": "2022-09-22T07:06:22.536591",
     "status": "completed"
    },
    "tags": []
   },
   "source": [
    "VECTORIZING THE CORPUS"
   ]
  },
  {
   "cell_type": "code",
   "execution_count": 9,
   "id": "00533d4d",
   "metadata": {
    "execution": {
     "iopub.execute_input": "2022-09-22T07:06:22.557552Z",
     "iopub.status.busy": "2022-09-22T07:06:22.556805Z",
     "iopub.status.idle": "2022-09-22T07:06:22.565421Z",
     "shell.execute_reply": "2022-09-22T07:06:22.564147Z"
    },
    "papermill": {
     "duration": 0.019408,
     "end_time": "2022-09-22T07:06:22.568099",
     "exception": false,
     "start_time": "2022-09-22T07:06:22.548691",
     "status": "completed"
    },
    "tags": []
   },
   "outputs": [
    {
     "data": {
      "text/plain": [
       "(5572, 5000)"
      ]
     },
     "execution_count": 9,
     "metadata": {},
     "output_type": "execute_result"
    }
   ],
   "source": [
    "X.shape\n",
    "# 5572 sentences with 5000 unique words(limited words )"
   ]
  },
  {
   "cell_type": "code",
   "execution_count": 10,
   "id": "715b9db4",
   "metadata": {
    "execution": {
     "iopub.execute_input": "2022-09-22T07:06:22.583222Z",
     "iopub.status.busy": "2022-09-22T07:06:22.582347Z",
     "iopub.status.idle": "2022-09-22T07:06:22.595031Z",
     "shell.execute_reply": "2022-09-22T07:06:22.593995Z"
    },
    "papermill": {
     "duration": 0.023316,
     "end_time": "2022-09-22T07:06:22.597801",
     "exception": false,
     "start_time": "2022-09-22T07:06:22.574485",
     "status": "completed"
    },
    "tags": []
   },
   "outputs": [],
   "source": [
    "y=pd.get_dummies(df['labels']) #converting labels to 1 and 0...categorical\n",
    "y=y.iloc[:,1] #we only need one of the two columns"
   ]
  },
  {
   "cell_type": "code",
   "execution_count": 11,
   "id": "aa8b26f2",
   "metadata": {
    "execution": {
     "iopub.execute_input": "2022-09-22T07:06:22.612896Z",
     "iopub.status.busy": "2022-09-22T07:06:22.612093Z",
     "iopub.status.idle": "2022-09-22T07:06:22.619310Z",
     "shell.execute_reply": "2022-09-22T07:06:22.618173Z"
    },
    "papermill": {
     "duration": 0.01738,
     "end_time": "2022-09-22T07:06:22.621543",
     "exception": false,
     "start_time": "2022-09-22T07:06:22.604163",
     "status": "completed"
    },
    "tags": []
   },
   "outputs": [
    {
     "data": {
      "text/plain": [
       "(5572,)"
      ]
     },
     "execution_count": 11,
     "metadata": {},
     "output_type": "execute_result"
    }
   ],
   "source": [
    "y.shape"
   ]
  },
  {
   "cell_type": "code",
   "execution_count": 12,
   "id": "f50f4e03",
   "metadata": {
    "execution": {
     "iopub.execute_input": "2022-09-22T07:06:22.636988Z",
     "iopub.status.busy": "2022-09-22T07:06:22.636293Z",
     "iopub.status.idle": "2022-09-22T07:06:22.809776Z",
     "shell.execute_reply": "2022-09-22T07:06:22.808758Z"
    },
    "papermill": {
     "duration": 0.184083,
     "end_time": "2022-09-22T07:06:22.812370",
     "exception": false,
     "start_time": "2022-09-22T07:06:22.628287",
     "status": "completed"
    },
    "tags": []
   },
   "outputs": [],
   "source": [
    "from sklearn.model_selection import train_test_split\n",
    "x_train,x_test,y_train,y_test=train_test_split(X,y,train_size=0.33,random_state=42)"
   ]
  },
  {
   "cell_type": "code",
   "execution_count": 13,
   "id": "e2ec876e",
   "metadata": {
    "execution": {
     "iopub.execute_input": "2022-09-22T07:06:22.828267Z",
     "iopub.status.busy": "2022-09-22T07:06:22.827603Z",
     "iopub.status.idle": "2022-09-22T07:06:22.875610Z",
     "shell.execute_reply": "2022-09-22T07:06:22.873810Z"
    },
    "papermill": {
     "duration": 0.061396,
     "end_time": "2022-09-22T07:06:22.880433",
     "exception": false,
     "start_time": "2022-09-22T07:06:22.819037",
     "status": "completed"
    },
    "tags": []
   },
   "outputs": [],
   "source": [
    "from sklearn.naive_bayes import MultinomialNB\n",
    "model=MultinomialNB().fit(x_train,y_train)\n"
   ]
  },
  {
   "cell_type": "code",
   "execution_count": 14,
   "id": "7dba9d34",
   "metadata": {
    "execution": {
     "iopub.execute_input": "2022-09-22T07:06:22.918497Z",
     "iopub.status.busy": "2022-09-22T07:06:22.917602Z",
     "iopub.status.idle": "2022-09-22T07:06:22.972320Z",
     "shell.execute_reply": "2022-09-22T07:06:22.970571Z"
    },
    "papermill": {
     "duration": 0.078384,
     "end_time": "2022-09-22T07:06:22.977202",
     "exception": false,
     "start_time": "2022-09-22T07:06:22.898818",
     "status": "completed"
    },
    "tags": []
   },
   "outputs": [],
   "source": [
    "predicted=model.predict(x_test)"
   ]
  },
  {
   "cell_type": "code",
   "execution_count": 15,
   "id": "2305a0d3",
   "metadata": {
    "execution": {
     "iopub.execute_input": "2022-09-22T07:06:23.013593Z",
     "iopub.status.busy": "2022-09-22T07:06:23.012853Z",
     "iopub.status.idle": "2022-09-22T07:06:23.339805Z",
     "shell.execute_reply": "2022-09-22T07:06:23.338549Z"
    },
    "papermill": {
     "duration": 0.348536,
     "end_time": "2022-09-22T07:06:23.342732",
     "exception": false,
     "start_time": "2022-09-22T07:06:22.994196",
     "status": "completed"
    },
    "tags": []
   },
   "outputs": [
    {
     "data": {
      "image/png": "[encoded data removed]",
      "text/plain": [
       "<Figure size 432x288 with 2 Axes>"
      ]
     },
     "metadata": {
      "needs_background": "light"
     },
     "output_type": "display_data"
    }
   ],
   "source": [
    "from sklearn.metrics import confusion_matrix,ConfusionMatrixDisplay\n",
    "from sklearn.metrics import accuracy_score\n",
    "conf_m=confusion_matrix(y_test,predicted,labels=model.classes_)\n",
    "cm=ConfusionMatrixDisplay(confusion_matrix=conf_m,display_labels=model.classes_)\n",
    "cm.plot()\n",
    "plt.title(\"Confusion Matrix\")\n",
    "plt.show()\n",
    "\n",
    "accuracy=accuracy_score(y_test,predicted)"
   ]
  },
  {
   "cell_type": "code",
   "execution_count": 16,
   "id": "29e8d798",
   "metadata": {
    "execution": {
     "iopub.execute_input": "2022-09-22T07:06:23.358297Z",
     "iopub.status.busy": "2022-09-22T07:06:23.357850Z",
     "iopub.status.idle": "2022-09-22T07:06:23.363505Z",
     "shell.execute_reply": "2022-09-22T07:06:23.362133Z"
    },
    "papermill": {
     "duration": 0.016707,
     "end_time": "2022-09-22T07:06:23.366309",
     "exception": false,
     "start_time": "2022-09-22T07:06:23.349602",
     "status": "completed"
    },
    "tags": []
   },
   "outputs": [],
   "source": [
    "from sklearn.metrics import classification_report"
   ]
  },
  {
   "cell_type": "code",
   "execution_count": 17,
   "id": "b9d75670",
   "metadata": {
    "execution": {
     "iopub.execute_input": "2022-09-22T07:06:23.382107Z",
     "iopub.status.busy": "2022-09-22T07:06:23.381277Z",
     "iopub.status.idle": "2022-09-22T07:06:23.397287Z",
     "shell.execute_reply": "2022-09-22T07:06:23.395434Z"
    },
    "papermill": {
     "duration": 0.028358,
     "end_time": "2022-09-22T07:06:23.401395",
     "exception": false,
     "start_time": "2022-09-22T07:06:23.373037",
     "status": "completed"
    },
    "tags": []
   },
   "outputs": [
    {
     "name": "stdout",
     "output_type": "stream",
     "text": [
      "              precision    recall  f1-score   support\n",
      "\n",
      "           0       0.95      1.00      0.97      3234\n",
      "           1       1.00      0.67      0.80       500\n",
      "\n",
      "    accuracy                           0.96      3734\n",
      "   macro avg       0.98      0.83      0.89      3734\n",
      "weighted avg       0.96      0.96      0.95      3734\n",
      "\n"
     ]
    }
   ],
   "source": [
    "print(classification_report(y_test,predicted))"
   ]
  },
  {
   "cell_type": "code",
   "execution_count": null,
   "id": "aaaa5992",
   "metadata": {
    "papermill": {
     "duration": 0.006516,
     "end_time": "2022-09-22T07:06:23.415436",
     "exception": false,
     "start_time": "2022-09-22T07:06:23.408920",
     "status": "completed"
    },
    "tags": []
   },
   "outputs": [],
   "source": []
  }
 ],
 "metadata": {
  "kernelspec": {
   "display_name": "Python 3",
   "language": "python",
   "name": "python3"
  },
  "language_info": {
   "codemirror_mode": {
    "name": "ipython",
    "version": 3
   },
   "file_extension": ".py",
   "mimetype": "text/x-python",
   "name": "python",
   "nbconvert_exporter": "python",
   "pygments_lexer": "ipython3",
   "version": "3.7.12"
  },
  "papermill": {
   "default_parameters": {},
   "duration": 31.318354,
   "end_time": "2022-09-22T07:06:24.546374",
   "environment_variables": {},
   "exception": null,
   "input_path": "__notebook__.ipynb",
   "output_path": "__notebook__.ipynb",
   "parameters": {},
   "start_time": "2022-09-22T07:05:53.228020",
   "version": "2.3.4"
  }
 },
 "nbformat": 4,
 "nbformat_minor": 5
}
